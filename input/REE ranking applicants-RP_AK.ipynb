{
 "cells": [
  {
   "cell_type": "code",
   "execution_count": 1,
   "id": "7d3f7383-bdb6-44b6-9936-0ce11b19ea90",
   "metadata": {},
   "outputs": [],
   "source": [
    "# Importing the patstat client\n",
    "from epo.tipdata.patstat import PatstatClient\n",
    "\n",
    "# Initialize the PATSTAT client\n",
    "patstat = PatstatClient(env='PROD')\n",
    "\n",
    "# Access ORM\n",
    "db = patstat.orm()\n",
    "\n",
    "# Importing tables as models\n",
    "from epo.tipdata.patstat.database.models import TLS201_APPLN,TLS203_APPLN_ABSTR, TLS202_APPLN_TITLE, TLS209_APPLN_IPC, TLS224_APPLN_CPC, TLS206_PERSON, TLS207_PERS_APPLN"
   ]
  },
  {
   "cell_type": "code",
   "execution_count": 2,
   "id": "99fc38a7-d120-4988-b183-3633c52be17e",
   "metadata": {},
   "outputs": [
    {
     "name": "stdout",
     "output_type": "stream",
     "text": [
      "Number of distinct docdb_family_id values: 84905\n"
     ]
    }
   ],
   "source": [
    "from sqlalchemy import and_, or_\n",
    "# Keywords for the abstract and title\n",
    "keywords = [\n",
    "    \"rare earth element*\", \"light REE*\", \"heavy REE*\", \"rare earth metal*\",\n",
    "    \"rare earth oxide*\", \"lanthan*\", \"rare earth\"\n",
    "]\n",
    "# Step 1: Retrieve distinct docdb_family_id values corresponding to keywords\n",
    "subquery_keywords = (\n",
    "    db.query(TLS201_APPLN.docdb_family_id)\n",
    "    .join(TLS203_APPLN_ABSTR, TLS203_APPLN_ABSTR.appln_id == TLS201_APPLN.appln_id)\n",
    "    .filter(or_(*[TLS203_APPLN_ABSTR.appln_abstract.contains(kw) for kw in keywords]))\n",
    "    .union(\n",
    "        db.query(TLS201_APPLN.docdb_family_id)\n",
    "        .join(TLS202_APPLN_TITLE, TLS202_APPLN_TITLE.appln_id == TLS201_APPLN.appln_id)\n",
    "        .filter(or_(*[TLS202_APPLN_TITLE.appln_title.contains(kw) for kw in keywords]))\n",
    "    ).distinct()\n",
    ").all()\n",
    "\n",
    "# Convert result to a list of docdb_family_id values\n",
    "docdb_family_ids_keywords = [row.docdb_family_id for row in subquery_keywords]\n",
    "# Print the number of distinct docdb_family_id values\n",
    "print(f\"Number of distinct docdb_family_id values: {len(docdb_family_ids_keywords)}\")"
   ]
  },
  {
   "cell_type": "code",
   "execution_count": 3,
   "id": "4e10180d-175c-4651-b4c4-4c9ad57ee7eb",
   "metadata": {},
   "outputs": [
    {
     "name": "stdout",
     "output_type": "stream",
     "text": [
      "Number of results in Step 2: 567012\n"
     ]
    }
   ],
   "source": [
    "from sqlalchemy import func\n",
    "\n",
    "# Classification codes with varying lengths\n",
    "\n",
    "ipc_codes_11 = [\n",
    "'A43B   1/12','B03B   9/06','B29B   7/66','B30B   9/32','B65D  65/46','C03B   1/02',\n",
    "'C04B   7/24','C04B   7/26','C04B   7/28','C04B   7/30','C04B  11/26','C04B  18/04','C04B  18/06','C04B  18/08','C04B  18/10',\n",
    "'C04B  18/12','C04B  18/14','C04B  18/16','C04B  18/18','C04B  18/20','C04B  18/22','C04B  18/24','C04B  18/26','C04B  18/28',\n",
    "'C04B  18/30','C09K  11/01','C22B  19/28','C22B  19/30','C22B  25/06','D21B   1/08','D21B   1/10','D21B   1/32','D21C   5/02',\n",
    "'D21H  17/01','H01B  15/00','H01J   9/52','H01M   6/52','H01M  10/54']\n",
    "\n",
    "ipc_codes_8 = [\n",
    "'B22F   8','B29B  17','B62D  67','B65H  73',\n",
    "'C08J  11','C10M 175','C22B   7','D01G  11']\n",
    "\n",
    "ipc_codes_12 = [\n",
    "'C04B  33/132']\n",
    "\n",
    "cpc_codes_11 = ['A43B   1/12','B03B   9/06','B29B   7/66','B30B   9/32','B65D  65/46','C03B   1/02',\n",
    "'C04B   7/24','C04B   7/26','C04B   7/28','C04B   7/30','C04B  11/26','C04B  18/04','C04B  18/06','C04B  18/08','C04B  18/10',\n",
    "'C04B  18/12','C04B  18/14','C04B  18/16','C04B  18/18','C04B  18/20','C04B  18/22','C04B  18/24','C04B  18/26','C04B  18/28',\n",
    "'C04B  18/30','C09K  11/01','C22B  19/28','C22B  19/30','C22B  25/06','D21B   1/08','D21B   1/10','D21B   1/32','D21C   5/02',\n",
    "'D21H  17/01','H01B  15/00','H01J   9/52','H01M   6/52','H01M  10/54','Y02W  30/50','Y02W  30/52','Y02W  30/56','Y02W  30/58',\n",
    "'Y02W  30/60','Y02W  30/62','Y02W  30/64','Y02W  30/66','Y02W  30/74','Y02W  30/78','Y02W  30/80','Y02W  30/82','Y02W  30/84',\n",
    "'Y02W  30/91','Y02P  10/20']\n",
    "\n",
    "cpc_codes_8 = ['B22F   8','B29B  17','B62D  67','B65H  73',\n",
    "'C08J  11','C10M 175','C22B   7','D01G  11']\n",
    "\n",
    "cpc_codes_12 = ['C04B  18/068','C04B  33/132',\n",
    "'C04B   7/243','C04B   7/246','C04B  18/049','C04B  18/061','C04B  18/062','C04B  18/064','C04B  18/065',\n",
    "'C04B  18/067','C04B  18/081','C04B  18/082','C04B  18/084','C04B  18/085','C04B  18/087','C04B  18/088',\n",
    "'C04B  18/101','C04B  18/103','C04B  18/105','C04B  18/106','C04B  18/108','C04B  18/125',\n",
    "'C04B  18/141','C04B  18/142','C04B  18/143','C04B  18/144','C04B  18/145','C04B  18/146','C04B  18/147',\n",
    "'C04B  18/148','C04B  18/149','C04B  18/162','C04B  18/165','C04B  18/167','C04B  18/241','C04B  18/243',\n",
    "'C04B  18/245','C04B  18/246','C04B  18/248','C04B  18/265','C04B  18/305']\n",
    "\n",
    "\n",
    "cpc_codes_13 = ['C04B  18/0409','C04B  18/0418',\n",
    "'C04B  18/0427','C04B  18/0436','C04B  18/0445','C04B  18/0454','C04B  18/0463','C04B  18/0472','C04B  18/0481']\n",
    "\n",
    "\n",
    "\n",
    "\n",
    "\n",
    "# Subquery for classification codes with varying lengths\n",
    "subquery_classcodes = (\n",
    "    db.query(TLS201_APPLN.docdb_family_id)\n",
    "    .join(TLS209_APPLN_IPC, TLS209_APPLN_IPC.appln_id == TLS201_APPLN.appln_id)\n",
    "    .filter(\n",
    "        or_(\n",
    "            func.substr(TLS209_APPLN_IPC.ipc_class_symbol, 1, 11).in_(ipc_codes_11),\n",
    "            func.substr(TLS209_APPLN_IPC.ipc_class_symbol, 1, 8).in_(ipc_codes_8),\n",
    "            func.substr(TLS209_APPLN_IPC.ipc_class_symbol, 1, 12).in_(ipc_codes_12)\n",
    "        )\n",
    "    )\n",
    "    .union(\n",
    "        db.query(TLS201_APPLN.docdb_family_id)\n",
    "        .join(TLS224_APPLN_CPC, TLS224_APPLN_CPC.appln_id == TLS201_APPLN.appln_id)\n",
    "        .filter(\n",
    "            or_(\n",
    "                func.substr(TLS224_APPLN_CPC.cpc_class_symbol, 1, 11).in_(cpc_codes_11),\n",
    "                func.substr(TLS224_APPLN_CPC.cpc_class_symbol, 1, 8).in_(cpc_codes_8),\n",
    "                func.substr(TLS224_APPLN_CPC.cpc_class_symbol, 1, 12).in_(cpc_codes_12),\n",
    "                func.substr(TLS224_APPLN_CPC.cpc_class_symbol, 1, 12).in_(cpc_codes_13)\n",
    "            )\n",
    "        )\n",
    "    ).distinct()\n",
    ").all()\n",
    "\n",
    "# Convert result to a list of docdb_family_id values\n",
    "docdb_family_ids_classcodes = [row.docdb_family_id for row in subquery_classcodes]\n",
    "\n",
    "# Print the number of results\n",
    "print(f\"Number of results in Step 2: {len(docdb_family_ids_classcodes)}\")"
   ]
  },
  {
   "cell_type": "code",
   "execution_count": 4,
   "id": "55d59671-c49e-4261-8f5b-a15ed8698e61",
   "metadata": {},
   "outputs": [],
   "source": [
    "# Step 3: Get the intersection of the two lists\n",
    "intersection_docdb_family_ids = list(set(docdb_family_ids_keywords) & set(docdb_family_ids_classcodes))"
   ]
  },
  {
   "cell_type": "code",
   "execution_count": 5,
   "id": "6acef6cb-7fce-4aca-ae48-305074d1ea46",
   "metadata": {},
   "outputs": [
    {
     "name": "stdout",
     "output_type": "stream",
     "text": [
      "[(4313,)]\n"
     ]
    }
   ],
   "source": [
    "# Step 4: Filter the data according to the timeframe 2010 - 2022\n",
    "final_query = (\n",
    "    db.query(func.count(func.distinct(TLS201_APPLN.docdb_family_id)).label('Famiglie'))\n",
    "    .filter(TLS201_APPLN.docdb_family_id.in_(intersection_docdb_family_ids))\n",
    "    .filter(TLS201_APPLN.earliest_filing_year.between(2010, 2022))\n",
    ")\n",
    "\n",
    "# Execute the query\n",
    "result = final_query.all()\n",
    "print(result)"
   ]
  },
  {
   "cell_type": "code",
   "execution_count": 6,
   "id": "8f69b5e7-4983-4be6-a8e5-c0d0d1a42b25",
   "metadata": {},
   "outputs": [
    {
     "name": "stdout",
     "output_type": "stream",
     "text": [
      "                                           Applicant  Distinct Patent Families\n",
      "0       JIANGXI UNIVERSITY OF SCIENCE AND TECHNOLOGY                       179\n",
      "1                        CHINESE ACADEMY OF SCIENCES                       103\n",
      "2                BAOTOU IRON & STEEL (GROUP) COMPANY                        68\n",
      "3           BAOTOU RESEARCH INSTITUTE OF RARE EARTHS                        51\n",
      "4                            NORTHEASTERN UNIVERSITY                        47\n",
      "...                                              ...                       ...\n",
      "2450                          CENTRAL AMERICA NICKEL                         1\n",
      "2451  ZIBO CENTER FOR DISEASE CONTROL AND PREVENTION                         1\n",
      "2452                            TUDOR, CATALINA OANA                         1\n",
      "2453                   JIANGSU BEINAI ALLOYS COMPANY                         1\n",
      "2454                                     ZHONG JIN'E                         1\n",
      "\n",
      "[2455 rows x 2 columns]\n"
     ]
    }
   ],
   "source": [
    "import pandas as pd\n",
    "query = db.query(\n",
    "    TLS206_PERSON.psn_name,\n",
    "    func.count(func.distinct(TLS201_APPLN.docdb_family_id)).label('distinct_patent_families')\n",
    ").join(\n",
    "    TLS207_PERS_APPLN, TLS206_PERSON.person_id == TLS207_PERS_APPLN.person_id\n",
    ").join(\n",
    "    TLS201_APPLN, TLS207_PERS_APPLN.appln_id == TLS201_APPLN.appln_id\n",
    ").filter(\n",
    "    TLS207_PERS_APPLN.applt_seq_nr != 0,\n",
    "    TLS201_APPLN.docdb_family_id.in_(intersection_docdb_family_ids),\n",
    "    TLS201_APPLN.earliest_filing_year.between(2010, 2022)\n",
    ").group_by(\n",
    "    TLS206_PERSON.psn_name\n",
    ").order_by(\n",
    "    func.count(func.distinct(TLS201_APPLN.docdb_family_id)).desc()\n",
    ").all()\n",
    "\n",
    "# Print the results\n",
    "#for result in query:\n",
    "#   print(f\"Applicant: {result.psn_name}, Distinct Patent Families: {result.distinct_patent_families}\")\n",
    "\n",
    "# Convert the results to a DataFrame and display it\n",
    "df = pd.DataFrame(query, columns=['Applicant', 'Distinct Patent Families'])\n",
    "print(df)"
   ]
  },
  {
   "cell_type": "code",
   "execution_count": 7,
   "id": "10bcc871-278f-4e98-afbe-bdaeefdc8daf",
   "metadata": {},
   "outputs": [],
   "source": [
    "import plotly.express as px\n"
   ]
  },
  {
   "cell_type": "markdown",
   "id": "5f097a81-690d-4a13-9443-605e6c5a2ca2",
   "metadata": {},
   "source": [
    "# Segue la versione più bella che mi permette di visualizzare sia la lista di dati che il grafico scatter con i più significativi"
   ]
  },
  {
   "cell_type": "code",
   "execution_count": 8,
   "id": "702cb774-7c2e-440c-be6c-f1b9cee95f2e",
   "metadata": {},
   "outputs": [
    {
     "name": "stdout",
     "output_type": "stream",
     "text": [
      "The combined dashboard has been saved as 'applicants_dashboard.html'. You can download it from your working directory.\n"
     ]
    }
   ],
   "source": [
    "\n",
    "# Filter out applicants with only 1 or 2 patent families\n",
    "df_filtered = df[df['Distinct Patent Families'] > 2]\n",
    "\n",
    "# Create a scatter plot\n",
    "fig = px.scatter(df_filtered, x='Distinct Patent Families', y='Applicant', title='Applicants by Distinct Patent Families', hover_data=['Applicant'], color='Distinct Patent Families')\n",
    "\n",
    "# Hide the y-axis labels\n",
    "fig.update_layout(yaxis=dict(showticklabels=False))\n",
    "\n",
    "# Save the plot as an HTML file\n",
    "fig_html = fig.to_html(full_html=False)\n",
    "\n",
    "# Display the DataFrame in a scrollable format\n",
    "html_table = df.to_html(classes='table table-striped', index=False)\n",
    "\n",
    "html_content = f\"\"\"\n",
    "<!DOCTYPE html>\n",
    "<html>\n",
    "<head>\n",
    "    <title>Applicants by Distinct Patent Families</title>\n",
    "    <style>\n",
    "        .scrollable-table {{\n",
    "            height: 400px;\n",
    "            overflow-y: scroll;\n",
    "            display: block;\n",
    "        }}\n",
    "        .table {{\n",
    "            width: 100%;\n",
    "            border-collapse: collapse;\n",
    "        }}\n",
    "        .table th, .table td {{\n",
    "            border: 1px solid #ddd;\n",
    "            padding: 8px;\n",
    "        }}\n",
    "        .table th {{\n",
    "            background-color: #f2f2f2;\n",
    "            text-align: left;\n",
    "        }}\n",
    "    </style>\n",
    "</head>\n",
    "<body>\n",
    "    <h1>Applicants by Distinct Patent Families</h1>\n",
    "    <div class=\"scrollable-table\">\n",
    "        {html_table}\n",
    "    </div>\n",
    "    <div>\n",
    "        {fig_html}\n",
    "    </div>\n",
    "</body>\n",
    "</html>\n",
    "\"\"\"\n",
    "\n",
    "with open(\"applicants_dashboard.html\", \"w\") as file:\n",
    "    file.write(html_content)\n",
    "\n",
    "print(\"The combined dashboard has been saved as 'applicants_dashboard.html'. You can download it from your working directory.\")"
   ]
  },
  {
   "cell_type": "code",
   "execution_count": null,
   "id": "c45b98f0-22a5-48da-8e5e-4adc79419c50",
   "metadata": {},
   "outputs": [],
   "source": []
  }
 ],
 "metadata": {
  "kernelspec": {
   "display_name": "Python 3 (ipykernel)",
   "language": "python",
   "name": "python3"
  },
  "language_info": {
   "codemirror_mode": {
    "name": "ipython",
    "version": 3
   },
   "file_extension": ".py",
   "mimetype": "text/x-python",
   "name": "python",
   "nbconvert_exporter": "python",
   "pygments_lexer": "ipython3",
   "version": "3.12.9"
  }
 },
 "nbformat": 4,
 "nbformat_minor": 5
}
