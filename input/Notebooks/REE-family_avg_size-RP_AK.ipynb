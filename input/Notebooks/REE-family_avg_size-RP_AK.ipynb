{
 "cells": [
  {
   "cell_type": "markdown",
   "id": "ecd3e1c2-8e94-4922-9807-d5b72f21b897",
   "metadata": {},
   "source": [
    "# Alcune verifiche dell'approccio REE:"
   ]
  },
  {
   "cell_type": "markdown",
   "id": "d1f70373-ddfd-4c86-acde-df1812b10ab1",
   "metadata": {},
   "source": [
    "### si tratta di riprodurre alcuni risultati già trovati con Patstat online tramite SQLAlchemy. Alcune strategie sono comunque utili per analisi di Patent Intelligence."
   ]
  },
  {
   "cell_type": "code",
   "execution_count": 1,
   "id": "0bc6699f-b7ae-4171-91a0-9f818dd85a80",
   "metadata": {},
   "outputs": [],
   "source": [
    "# Importing the patstat client\n",
    "from epo.tipdata.patstat import PatstatClient\n",
    "\n",
    "# Initialize the PATSTAT client\n",
    "patstat = PatstatClient(env='PROD')\n",
    "\n",
    "# Access ORM\n",
    "db = patstat.orm()\n",
    "\n",
    "# Importing tables as models\n",
    "from epo.tipdata.patstat.database.models import TLS201_APPLN,TLS203_APPLN_ABSTR, TLS202_APPLN_TITLE, TLS209_APPLN_IPC, TLS224_APPLN_CPC, TLS231_INPADOC_LEGAL_EVENT, TLS211_PAT_PUBLN, TLS206_PERSON, TLS207_PERS_APPLN"
   ]
  },
  {
   "cell_type": "markdown",
   "id": "72a6db99-704a-4ed8-be78-8e64d5145be6",
   "metadata": {},
   "source": [
    "# Ora trattiamo un caso reale"
   ]
  },
  {
   "cell_type": "markdown",
   "id": "c473aae4-11a8-437f-928a-5933c3353d3d",
   "metadata": {},
   "source": [
    "Step 1: Retrieve distinct docdb_family_id values corresponding to keywords"
   ]
  },
  {
   "cell_type": "code",
   "execution_count": 2,
   "id": "ea05a695-64e5-4d0b-95ab-45fdfcfc2d5b",
   "metadata": {},
   "outputs": [
    {
     "name": "stdout",
     "output_type": "stream",
     "text": [
      "Number of distinct docdb_family_id values: 84905\n"
     ]
    }
   ],
   "source": [
    "from sqlalchemy import and_, or_\n",
    "# Keywords for the abstract and title\n",
    "keywords = [\n",
    "    \"rare earth element*\", \"light REE*\", \"heavy REE*\", \"rare earth metal*\",\n",
    "    \"rare earth oxide*\", \"lanthan*\", \"rare earth\"\n",
    "]\n",
    "# Step 1: Retrieve distinct docdb_family_id values corresponding to keywords\n",
    "subquery_keywords = (\n",
    "    db.query(TLS201_APPLN.docdb_family_id)\n",
    "    .join(TLS203_APPLN_ABSTR, TLS203_APPLN_ABSTR.appln_id == TLS201_APPLN.appln_id)\n",
    "    .filter(or_(*[TLS203_APPLN_ABSTR.appln_abstract.contains(kw) for kw in keywords]))\n",
    "    .union(\n",
    "        db.query(TLS201_APPLN.docdb_family_id)\n",
    "        .join(TLS202_APPLN_TITLE, TLS202_APPLN_TITLE.appln_id == TLS201_APPLN.appln_id)\n",
    "        .filter(or_(*[TLS202_APPLN_TITLE.appln_title.contains(kw) for kw in keywords]))\n",
    "    ).distinct()\n",
    ").all()\n",
    "\n",
    "# Convert result to a list of docdb_family_id values\n",
    "docdb_family_ids_keywords = [row.docdb_family_id for row in subquery_keywords]\n",
    "# Print the number of distinct docdb_family_id values\n",
    "print(f\"Number of distinct docdb_family_id values: {len(docdb_family_ids_keywords)}\")"
   ]
  },
  {
   "cell_type": "markdown",
   "id": "1ef67940-bf0c-4f2e-8023-718c1d7e2371",
   "metadata": {},
   "source": [
    "Step 2: Retrieve distinct docdb_family_id values corresponding to classification codes"
   ]
  },
  {
   "cell_type": "code",
   "execution_count": 3,
   "id": "1b45a990-0b8a-42e8-8a62-b1b4fa704768",
   "metadata": {},
   "outputs": [
    {
     "name": "stdout",
     "output_type": "stream",
     "text": [
      "Number of results in Step 2: 567012\n"
     ]
    }
   ],
   "source": [
    "from sqlalchemy import func\n",
    "\n",
    "# Classification codes with varying lengths\n",
    "\n",
    "ipc_codes_11 = [\n",
    "'A43B   1/12','B03B   9/06','B29B   7/66','B30B   9/32','B65D  65/46','C03B   1/02',\n",
    "'C04B   7/24','C04B   7/26','C04B   7/28','C04B   7/30','C04B  11/26','C04B  18/04','C04B  18/06','C04B  18/08','C04B  18/10',\n",
    "'C04B  18/12','C04B  18/14','C04B  18/16','C04B  18/18','C04B  18/20','C04B  18/22','C04B  18/24','C04B  18/26','C04B  18/28',\n",
    "'C04B  18/30','C09K  11/01','C22B  19/28','C22B  19/30','C22B  25/06','D21B   1/08','D21B   1/10','D21B   1/32','D21C   5/02',\n",
    "'D21H  17/01','H01B  15/00','H01J   9/52','H01M   6/52','H01M  10/54']\n",
    "\n",
    "ipc_codes_8 = [\n",
    "'B22F   8','B29B  17','B62D  67','B65H  73',\n",
    "'C08J  11','C10M 175','C22B   7','D01G  11']\n",
    "\n",
    "ipc_codes_12 = [\n",
    "'C04B  33/132']\n",
    "\n",
    "cpc_codes_11 = ['A43B   1/12','B03B   9/06','B29B   7/66','B30B   9/32','B65D  65/46','C03B   1/02',\n",
    "'C04B   7/24','C04B   7/26','C04B   7/28','C04B   7/30','C04B  11/26','C04B  18/04','C04B  18/06','C04B  18/08','C04B  18/10',\n",
    "'C04B  18/12','C04B  18/14','C04B  18/16','C04B  18/18','C04B  18/20','C04B  18/22','C04B  18/24','C04B  18/26','C04B  18/28',\n",
    "'C04B  18/30','C09K  11/01','C22B  19/28','C22B  19/30','C22B  25/06','D21B   1/08','D21B   1/10','D21B   1/32','D21C   5/02',\n",
    "'D21H  17/01','H01B  15/00','H01J   9/52','H01M   6/52','H01M  10/54','Y02W  30/50','Y02W  30/52','Y02W  30/56','Y02W  30/58',\n",
    "'Y02W  30/60','Y02W  30/62','Y02W  30/64','Y02W  30/66','Y02W  30/74','Y02W  30/78','Y02W  30/80','Y02W  30/82','Y02W  30/84',\n",
    "'Y02W  30/91','Y02P  10/20']\n",
    "\n",
    "cpc_codes_8 = ['B22F   8','B29B  17','B62D  67','B65H  73',\n",
    "'C08J  11','C10M 175','C22B   7','D01G  11']\n",
    "\n",
    "cpc_codes_12 = ['C04B  18/068','C04B  33/132',\n",
    "'C04B   7/243','C04B   7/246','C04B  18/049','C04B  18/061','C04B  18/062','C04B  18/064','C04B  18/065',\n",
    "'C04B  18/067','C04B  18/081','C04B  18/082','C04B  18/084','C04B  18/085','C04B  18/087','C04B  18/088',\n",
    "'C04B  18/101','C04B  18/103','C04B  18/105','C04B  18/106','C04B  18/108','C04B  18/125',\n",
    "'C04B  18/141','C04B  18/142','C04B  18/143','C04B  18/144','C04B  18/145','C04B  18/146','C04B  18/147',\n",
    "'C04B  18/148','C04B  18/149','C04B  18/162','C04B  18/165','C04B  18/167','C04B  18/241','C04B  18/243',\n",
    "'C04B  18/245','C04B  18/246','C04B  18/248','C04B  18/265','C04B  18/305']\n",
    "\n",
    "\n",
    "cpc_codes_13 = ['C04B  18/0409','C04B  18/0418',\n",
    "'C04B  18/0427','C04B  18/0436','C04B  18/0445','C04B  18/0454','C04B  18/0463','C04B  18/0472','C04B  18/0481']\n",
    "\n",
    "\n",
    "\n",
    "\n",
    "\n",
    "# Subquery for classification codes with varying lengths\n",
    "subquery_classcodes = (\n",
    "    db.query(TLS201_APPLN.docdb_family_id)\n",
    "    .join(TLS209_APPLN_IPC, TLS209_APPLN_IPC.appln_id == TLS201_APPLN.appln_id)\n",
    "    .filter(\n",
    "        or_(\n",
    "            func.substr(TLS209_APPLN_IPC.ipc_class_symbol, 1, 11).in_(ipc_codes_11),\n",
    "            func.substr(TLS209_APPLN_IPC.ipc_class_symbol, 1, 8).in_(ipc_codes_8),\n",
    "            func.substr(TLS209_APPLN_IPC.ipc_class_symbol, 1, 12).in_(ipc_codes_12)\n",
    "        )\n",
    "    )\n",
    "    .union(\n",
    "        db.query(TLS201_APPLN.docdb_family_id)\n",
    "        .join(TLS224_APPLN_CPC, TLS224_APPLN_CPC.appln_id == TLS201_APPLN.appln_id)\n",
    "        .filter(\n",
    "            or_(\n",
    "                func.substr(TLS224_APPLN_CPC.cpc_class_symbol, 1, 11).in_(cpc_codes_11),\n",
    "                func.substr(TLS224_APPLN_CPC.cpc_class_symbol, 1, 8).in_(cpc_codes_8),\n",
    "                func.substr(TLS224_APPLN_CPC.cpc_class_symbol, 1, 12).in_(cpc_codes_12),\n",
    "                func.substr(TLS224_APPLN_CPC.cpc_class_symbol, 1, 12).in_(cpc_codes_13)\n",
    "            )\n",
    "        )\n",
    "    ).distinct()\n",
    ").all()\n",
    "\n",
    "# Convert result to a list of docdb_family_id values\n",
    "docdb_family_ids_classcodes = [row.docdb_family_id for row in subquery_classcodes]\n",
    "\n",
    "# Print the number of results\n",
    "print(f\"Number of results in Step 2: {len(docdb_family_ids_classcodes)}\")"
   ]
  },
  {
   "cell_type": "markdown",
   "id": "28ee06a7-7aa1-451c-8bc7-d3a296541ecb",
   "metadata": {},
   "source": [
    "Step 3: Get the intersection of the two lists"
   ]
  },
  {
   "cell_type": "code",
   "execution_count": 4,
   "id": "8735a862-f258-4116-9473-54c87d5c9f59",
   "metadata": {},
   "outputs": [],
   "source": [
    "# Step 3: Get the intersection of the two lists\n",
    "intersection_docdb_family_ids = list(set(docdb_family_ids_keywords) & set(docdb_family_ids_classcodes))"
   ]
  },
  {
   "cell_type": "markdown",
   "id": "d3727eb4-8f5e-4d68-b88e-10ae778c6526",
   "metadata": {},
   "source": [
    "Step 4: Retrieve and display the list of results"
   ]
  },
  {
   "cell_type": "code",
   "execution_count": 5,
   "id": "07c03bcf-08fb-40dc-930a-21064cb3a9e9",
   "metadata": {},
   "outputs": [
    {
     "name": "stdout",
     "output_type": "stream",
     "text": [
      "[(4313,)]\n"
     ]
    }
   ],
   "source": [
    "# Step 4: Filter the data according to the timeframe 2010 - 2022\n",
    "final_query = (\n",
    "    db.query(func.count(func.distinct(TLS201_APPLN.docdb_family_id)).label('Famiglie'))\n",
    "    .filter(TLS201_APPLN.docdb_family_id.in_(intersection_docdb_family_ids))\n",
    "    .filter(TLS201_APPLN.earliest_filing_year.between(2010, 2022))\n",
    ")\n",
    "\n",
    "# Execute the query\n",
    "result = final_query.all()\n",
    "print(result)"
   ]
  },
  {
   "cell_type": "raw",
   "id": "213a93f8-4a26-42ea-a3d8-7e84ad646433",
   "metadata": {},
   "source": [
    "import pandas as pd\n",
    "\n",
    "# Step 4: Filter the data according to the timeframe 2010 - 2022 and include docdb_family_size\n",
    "final_query = (\n",
    "    db.query(TLS201_APPLN.docdb_family_id, TLS201_APPLN.docdb_family_size)\n",
    "    .filter(TLS201_APPLN.docdb_family_id.in_(intersection_docdb_family_ids))\n",
    "    .filter(TLS201_APPLN.earliest_filing_year.between(2010, 2022))\n",
    "    .distinct()\n",
    ")\n",
    "\n",
    "# Execute the query\n",
    "result = final_query.all()\n",
    "\n",
    "# Convert the result to a DataFrame\n",
    "df = pd.DataFrame(result, columns=['docdb_family_id', 'docdb_family_size'])\n",
    "\n",
    "# Display the DataFrame\n",
    "print(df)\n",
    "\n",
    "# Save the DataFrame to a CSV file (optional)\n",
    "df.to_csv('family_sizes.csv', index=False)"
   ]
  },
  {
   "cell_type": "code",
   "execution_count": 6,
   "id": "102e3efd-d6dc-48fc-ba26-e24a4471733c",
   "metadata": {},
   "outputs": [
    {
     "name": "stdout",
     "output_type": "stream",
     "text": [
      "      docdb_family_id  docdb_family_size  earliest_filing_year  \\\n",
      "0            59947557                  1                  2017   \n",
      "1            62078381                  1                  2017   \n",
      "2            82171931                  1                  2022   \n",
      "3            86051107                  1                  2022   \n",
      "4            84858887                  1                  2022   \n",
      "...               ...                ...                   ...   \n",
      "4679         59515233                  1                  2017   \n",
      "4680         63565142                  1                  2018   \n",
      "4681         83762024                  1                  2022   \n",
      "4682         81173912                  1                  2021   \n",
      "4683         62748784                 21                  2017   \n",
      "\n",
      "     person_ctry_code  \n",
      "0                      \n",
      "1                      \n",
      "2                      \n",
      "3                      \n",
      "4                      \n",
      "...               ...  \n",
      "4679                   \n",
      "4680                   \n",
      "4681                   \n",
      "4682                   \n",
      "4683               AU  \n",
      "\n",
      "[4684 rows x 4 columns]\n"
     ]
    }
   ],
   "source": [
    "import pandas as pd\n",
    "\n",
    "# Step 4: Filter the data according to the timeframe 2010 - 2022 and include docdb_family_size, earliest_filing_year, and person_ctry_code\n",
    "final_query = (\n",
    "    db.query(\n",
    "        TLS201_APPLN.docdb_family_id,\n",
    "        TLS201_APPLN.docdb_family_size,\n",
    "        TLS201_APPLN.earliest_filing_year,\n",
    "        TLS206_PERSON.person_ctry_code\n",
    "    )\n",
    "    .join(TLS207_PERS_APPLN, TLS207_PERS_APPLN.appln_id == TLS201_APPLN.appln_id)\n",
    "    .join(TLS206_PERSON, TLS206_PERSON.person_id == TLS207_PERS_APPLN.person_id)\n",
    "    .filter(TLS201_APPLN.docdb_family_id.in_(intersection_docdb_family_ids))\n",
    "    .filter(TLS201_APPLN.earliest_filing_year.between(2010, 2022))\n",
    "    .distinct()\n",
    ")\n",
    "\n",
    "# Execute the query\n",
    "result = final_query.all()\n",
    "\n",
    "# Convert the result to a DataFrame\n",
    "df = pd.DataFrame(result, columns=['docdb_family_id', 'docdb_family_size', 'earliest_filing_year', 'person_ctry_code'])\n",
    "\n",
    "# Display the DataFrame\n",
    "print(df)\n",
    "\n",
    "# Save the DataFrame to a CSV file (optional)\n",
    "df.to_excel('family_dim.xlsx', index=False)"
   ]
  },
  {
   "cell_type": "code",
   "execution_count": 6,
   "id": "d2d2259e-22ed-40fc-a677-44e83fcbbf6b",
   "metadata": {},
   "outputs": [
    {
     "name": "stdout",
     "output_type": "stream",
     "text": [
      "    person_ctry_code  earliest_filing_year  average_family_size\n",
      "0                                     2010             1.926829\n",
      "1                                     2011             2.521008\n",
      "2                                     2012             1.780142\n",
      "3                                     2013             1.559524\n",
      "4                                     2014             1.447761\n",
      "..               ...                   ...                  ...\n",
      "203               US                  2021             2.923077\n",
      "204               US                  2022             1.958333\n",
      "205               ZA                  2011             4.000000\n",
      "206               ZA                  2016            12.000000\n",
      "207               ZA                  2017            21.000000\n",
      "\n",
      "[208 rows x 3 columns]\n"
     ]
    }
   ],
   "source": [
    "import pandas as pd\n",
    "\n",
    "# Step 4: Filter the data according to the timeframe 2010 - 2022 and include docdb_family_size, earliest_filing_year, and person_ctry_code\n",
    "final_query = (\n",
    "    db.query(\n",
    "        TLS201_APPLN.docdb_family_id,\n",
    "        TLS201_APPLN.docdb_family_size,\n",
    "        TLS201_APPLN.earliest_filing_year,\n",
    "        TLS206_PERSON.person_ctry_code\n",
    "    )\n",
    "    .join(TLS207_PERS_APPLN, TLS207_PERS_APPLN.appln_id == TLS201_APPLN.appln_id)\n",
    "    .join(TLS206_PERSON, TLS206_PERSON.person_id == TLS207_PERS_APPLN.person_id)\n",
    "    .filter(TLS201_APPLN.docdb_family_id.in_(intersection_docdb_family_ids))\n",
    "    .filter(TLS201_APPLN.earliest_filing_year.between(2010, 2022))\n",
    "    .distinct()\n",
    ")\n",
    "\n",
    "# Execute the query\n",
    "result = final_query.all()\n",
    "\n",
    "# Convert the result to a DataFrame\n",
    "df = pd.DataFrame(result, columns=['docdb_family_id', 'docdb_family_size', 'earliest_filing_year', 'person_ctry_code'])\n",
    "\n",
    "# Calculate the average family size for each combination of person_ctry_code and earliest_filing_year\n",
    "avg_family_size_df = df.groupby(['person_ctry_code', 'earliest_filing_year'])['docdb_family_size'].mean().reset_index()\n",
    "\n",
    "# Rename the columns for clarity\n",
    "avg_family_size_df.columns = ['person_ctry_code', 'earliest_filing_year', 'average_family_size']\n",
    "\n",
    "# Display the new DataFrame\n",
    "print(avg_family_size_df)\n",
    "\n",
    "# Save the new DataFrame to a CSV file (optional)\n",
    "avg_family_size_df.to_excel('average_family_sizes.xlsx', index=False)"
   ]
  },
  {
   "cell_type": "raw",
   "id": "58f1cc19-b5fd-4054-a6f7-1166d2218041",
   "metadata": {},
   "source": [
    "import plotly.express as px\n",
    "# Create a bar plot using Plotly\n",
    "fig = px.bar(\n",
    "    avg_family_size_df,\n",
    "    x='person_ctry_code',\n",
    "    y='average_family_size',\n",
    "    color='earliest_filing_year',\n",
    "    title='Average Family Size by Country and Filing Year',\n",
    "    labels={'person_ctry_code': 'Country', 'average_family_size': 'Average Family Size'},\n",
    "    barmode='stack'\n",
    ")\n",
    "\n",
    "# Show the plot\n",
    "fig.show()"
   ]
  },
  {
   "cell_type": "raw",
   "id": "d57da271-a922-49a6-8897-b11f34a86341",
   "metadata": {},
   "source": [
    "import plotly.express as px\n",
    "import pandas as pd\n",
    "\n",
    "# Assuming avg_family_size_df is your DataFrame\n",
    "# Calculate the sum of average family size for each country\n",
    "country_sums = avg_family_size_df.groupby('person_ctry_code')['average_family_size'].sum().reset_index()\n",
    "\n",
    "# Sort the countries by the sum of average family size in descending order\n",
    "sorted_countries = country_sums.sort_values(by='average_family_size', ascending=False)['person_ctry_code']\n",
    "\n",
    "# Convert the sorted countries to a list\n",
    "sorted_countries_list = sorted_countries.tolist()\n",
    "\n",
    "# Create a bar plot using Plotly with sorted countries\n",
    "fig = px.bar(\n",
    "    avg_family_size_df,\n",
    "    x='person_ctry_code',\n",
    "    y='average_family_size',\n",
    "    color='earliest_filing_year',\n",
    "    title='Average Family Size by Country and Filing Year',\n",
    "    labels={'person_ctry_code': 'Country', 'average_family_size': 'Average Family Size'},\n",
    "    barmode='stack',\n",
    "    category_orders={'person_ctry_code': sorted_countries_list}\n",
    ")\n",
    "\n",
    "# Show the plot\n",
    "fig.show()"
   ]
  },
  {
   "cell_type": "code",
   "execution_count": 8,
   "id": "ae6b7cab-d630-4d14-9060-4644b5966fdd",
   "metadata": {},
   "outputs": [
    {
     "ename": "NameError",
     "evalue": "name 'sorted_countries_list' is not defined",
     "output_type": "error",
     "traceback": [
      "\u001b[0;31m---------------------------------------------------------------------------\u001b[0m",
      "\u001b[0;31mNameError\u001b[0m                                 Traceback (most recent call last)",
      "Cell \u001b[0;32mIn[8], line 13\u001b[0m\n\u001b[1;32m      2\u001b[0m \u001b[38;5;28;01mimport\u001b[39;00m\u001b[38;5;250m \u001b[39m\u001b[38;5;21;01mpandas\u001b[39;00m\u001b[38;5;250m \u001b[39m\u001b[38;5;28;01mas\u001b[39;00m\u001b[38;5;250m \u001b[39m\u001b[38;5;21;01mpd\u001b[39;00m\n\u001b[1;32m      4\u001b[0m \u001b[38;5;66;03m# Creazione del grafico con modifica dell'asse Y\u001b[39;00m\n\u001b[1;32m      5\u001b[0m fig \u001b[38;5;241m=\u001b[39m px\u001b[38;5;241m.\u001b[39mbar(\n\u001b[1;32m      6\u001b[0m     avg_family_size_df,\n\u001b[1;32m      7\u001b[0m     y\u001b[38;5;241m=\u001b[39m\u001b[38;5;124m'\u001b[39m\u001b[38;5;124mperson_ctry_code\u001b[39m\u001b[38;5;124m'\u001b[39m,\n\u001b[1;32m      8\u001b[0m     x\u001b[38;5;241m=\u001b[39m\u001b[38;5;124m'\u001b[39m\u001b[38;5;124maverage_family_size\u001b[39m\u001b[38;5;124m'\u001b[39m,\n\u001b[1;32m      9\u001b[0m     color\u001b[38;5;241m=\u001b[39m\u001b[38;5;124m'\u001b[39m\u001b[38;5;124mearliest_filing_year\u001b[39m\u001b[38;5;124m'\u001b[39m,\n\u001b[1;32m     10\u001b[0m     title\u001b[38;5;241m=\u001b[39m\u001b[38;5;124m'\u001b[39m\u001b[38;5;124mAverage Family Size by Country and Filing Year\u001b[39m\u001b[38;5;124m'\u001b[39m,\n\u001b[1;32m     11\u001b[0m     labels\u001b[38;5;241m=\u001b[39m{\u001b[38;5;124m'\u001b[39m\u001b[38;5;124mperson_ctry_code\u001b[39m\u001b[38;5;124m'\u001b[39m: \u001b[38;5;124m'\u001b[39m\u001b[38;5;124mCountry\u001b[39m\u001b[38;5;124m'\u001b[39m, \u001b[38;5;124m'\u001b[39m\u001b[38;5;124maverage_family_size\u001b[39m\u001b[38;5;124m'\u001b[39m: \u001b[38;5;124m'\u001b[39m\u001b[38;5;124mAverage Family Size\u001b[39m\u001b[38;5;124m'\u001b[39m},\n\u001b[1;32m     12\u001b[0m     barmode\u001b[38;5;241m=\u001b[39m\u001b[38;5;124m'\u001b[39m\u001b[38;5;124mstack\u001b[39m\u001b[38;5;124m'\u001b[39m,\n\u001b[0;32m---> 13\u001b[0m     category_orders\u001b[38;5;241m=\u001b[39m{\u001b[38;5;124m'\u001b[39m\u001b[38;5;124mperson_ctry_code\u001b[39m\u001b[38;5;124m'\u001b[39m: \u001b[43msorted_countries_list\u001b[49m}\n\u001b[1;32m     14\u001b[0m )\n\u001b[1;32m     16\u001b[0m \u001b[38;5;66;03m# Modifica della visualizzazione dell'asse y\u001b[39;00m\n\u001b[1;32m     17\u001b[0m fig\u001b[38;5;241m.\u001b[39mupdate_layout(\n\u001b[1;32m     18\u001b[0m     height\u001b[38;5;241m=\u001b[39m\u001b[38;5;241m1000\u001b[39m,  \u001b[38;5;66;03m# Aumento dell'altezza per evitare sovrapposizioni\u001b[39;00m\n\u001b[1;32m     19\u001b[0m     yaxis\u001b[38;5;241m=\u001b[39m\u001b[38;5;28mdict\u001b[39m(\n\u001b[0;32m   (...)\u001b[0m\n\u001b[1;32m     23\u001b[0m     )\n\u001b[1;32m     24\u001b[0m )\n",
      "\u001b[0;31mNameError\u001b[0m: name 'sorted_countries_list' is not defined"
     ]
    }
   ],
   "source": [
    "import plotly.express as px\n",
    "import pandas as pd\n",
    "\n",
    "# Creazione del grafico con modifica dell'asse Y\n",
    "fig = px.bar(\n",
    "    avg_family_size_df,\n",
    "    y='person_ctry_code',\n",
    "    x='average_family_size',\n",
    "    color='earliest_filing_year',\n",
    "    title='Average Family Size by Country and Filing Year',\n",
    "    labels={'person_ctry_code': 'Country', 'average_family_size': 'Average Family Size'},\n",
    "    barmode='stack',\n",
    "    category_orders={'person_ctry_code': sorted_countries_list}\n",
    ")\n",
    "\n",
    "# Modifica della visualizzazione dell'asse y\n",
    "fig.update_layout(\n",
    "    height=1000,  # Aumento dell'altezza per evitare sovrapposizioni\n",
    "    yaxis=dict(\n",
    "        tickmode='linear',\n",
    "        #tickangle=-45,  # Ruota le etichette per migliorarne la leggibilità\n",
    "        automargin=True  # Assicura che le etichette abbiano spazio sufficiente\n",
    "    )\n",
    ")\n",
    "\n",
    "# Salva il grafico come file HTML\n",
    "fig.write_html(\"average_family_size_by_country.html\")\n",
    "\n",
    "# Mostra il grafico\n",
    "fig.show()\n"
   ]
  },
  {
   "cell_type": "code",
   "execution_count": null,
   "id": "5784a50f-2759-407d-9d56-79851ef7d189",
   "metadata": {},
   "outputs": [],
   "source": []
  }
 ],
 "metadata": {
  "kernelspec": {
   "display_name": "Python 3 (ipykernel)",
   "language": "python",
   "name": "python3"
  },
  "language_info": {
   "codemirror_mode": {
    "name": "ipython",
    "version": 3
   },
   "file_extension": ".py",
   "mimetype": "text/x-python",
   "name": "python",
   "nbconvert_exporter": "python",
   "pygments_lexer": "ipython3",
   "version": "3.12.9"
  }
 },
 "nbformat": 4,
 "nbformat_minor": 5
}
